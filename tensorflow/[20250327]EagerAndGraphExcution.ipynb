{
  "nbformat": 4,
  "nbformat_minor": 0,
  "metadata": {
    "colab": {
      "provenance": []
    },
    "kernelspec": {
      "name": "python3",
      "display_name": "Python 3"
    },
    "language_info": {
      "name": "python"
    }
  },
  "cells": [
    {
      "cell_type": "markdown",
      "source": [
        "# [20250327] Eager and Graph excution\n",
        "\n",
        "- **Eager excution**: TensorFlow operations are executed by Python, operation by operation, and return results back to Python.\n",
        "\n",
        "- **Graph excution**: tensor computations are executed as a TensorFlow graph, they can be saved, run, and restored all without the original Python code.\n",
        "  \n",
        "  - graph execution enables portability outside Python and tends to offer better performance"
      ],
      "metadata": {
        "id": "NIX6ESOwKCpE"
      }
    },
    {
      "cell_type": "code",
      "execution_count": 1,
      "metadata": {
        "id": "5Iikuxy4H6IV"
      },
      "outputs": [],
      "source": [
        "import tensorflow as tf\n",
        "import timeit\n",
        "from datetime import datetime"
      ]
    },
    {
      "cell_type": "code",
      "source": [
        "def a_regular_function(x, y, b):\n",
        "  print(f'Eager excution? {tf.executing_eagerly()}')\n",
        "  print(f'x: {type(x)} \\ny: {type(y)}\\nb: {type(b)}')\n",
        "  x = tf.matmul(x, y)\n",
        "  x = x + b\n",
        "  print(f'x: {x}\\t {type(x)}')\n",
        "  return x\n",
        "\n",
        "x1 = tf.constant([[1.0, 2.0]])\n",
        "y1 = tf.constant([[2.0], [3.0]])\n",
        "b1 = tf.constant(4.0)\n",
        "\n",
        "\n",
        "print('='*20, \"Eager Excution\", '='*20)\n",
        "print(a_regular_function(x1, y1, b1).numpy())\n",
        "\n",
        "print('='*20, \"Graph Excution\", '='*20)\n",
        "a_function_that_uses_a_graph = tf.function(a_regular_function)\n",
        "print(a_function_that_uses_a_graph(x1, y1, b1).numpy())"
      ],
      "metadata": {
        "colab": {
          "base_uri": "https://localhost:8080/"
        },
        "id": "LgEpDxJSKvHL",
        "outputId": "1b8c4921-7a09-4161-e7b6-8e17ae44047e"
      },
      "execution_count": 17,
      "outputs": [
        {
          "output_type": "stream",
          "name": "stdout",
          "text": [
            "==================== Eager Excution ====================\n",
            "Eager excution? True\n",
            "x: <class 'tensorflow.python.framework.ops.EagerTensor'> \n",
            "y: <class 'tensorflow.python.framework.ops.EagerTensor'>\n",
            "b: <class 'tensorflow.python.framework.ops.EagerTensor'>\n",
            "x: [[12.]]\t <class 'tensorflow.python.framework.ops.EagerTensor'>\n",
            "[[12.]]\n",
            "==================== Graph Excution ====================\n",
            "Eager excution? False\n",
            "x: <class 'tensorflow.python.framework.ops.SymbolicTensor'> \n",
            "y: <class 'tensorflow.python.framework.ops.SymbolicTensor'>\n",
            "b: <class 'tensorflow.python.framework.ops.SymbolicTensor'>\n",
            "x: Tensor(\"add:0\", shape=(1, 1), dtype=float32)\t <class 'tensorflow.python.framework.ops.SymbolicTensor'>\n",
            "[[12.]]\n"
          ]
        }
      ]
    },
    {
      "cell_type": "code",
      "source": [
        "@tf.function\n",
        "def hello_graph():\n",
        "  print('hello graph')\n",
        "\n",
        "\n",
        "# Only printed once even though it was called three times\n",
        "hi1 = hello_graph()\n",
        "hi2 = hello_graph()\n",
        "hi3 = hello_graph()"
      ],
      "metadata": {
        "colab": {
          "base_uri": "https://localhost:8080/"
        },
        "id": "9KX1kq8aK7V9",
        "outputId": "c38905f6-fa97-403f-be41-9aa1948e431e"
      },
      "execution_count": 18,
      "outputs": [
        {
          "output_type": "stream",
          "name": "stdout",
          "text": [
            "hello graph\n"
          ]
        }
      ]
    },
    {
      "cell_type": "markdown",
      "source": [
        "To explain, the `print` statement is executed when `tf.function` runs the original code in order to create the graph in a process known as \"tracing\". Tracing captures the TensorFlow operations into a graph, and `print` is not captured in the graph. That graph is then executed for all three calls without ever running the Python code again."
      ],
      "metadata": {
        "id": "2RNqf2_YN16n"
      }
    }
  ]
}